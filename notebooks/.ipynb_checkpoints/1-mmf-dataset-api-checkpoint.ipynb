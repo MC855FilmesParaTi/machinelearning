{
 "cells": [
  {
   "cell_type": "markdown",
   "id": "8f35fc24",
   "metadata": {},
   "source": [
    "## Coleta por API \n",
    "\n",
    "Neste notebook, teremos uma versão da coleta via API do MovieLens Group, a API é um pouco instável mas é uma maneira fácil de coletar os datasets.\n",
    "Os tamanhos possíveis são:\n",
    "\n",
    "- 100k, 1m, 10m, ou 20m\n",
    "\n",
    "E devem ser passados como string, conforme o exemplo:"
   ]
  },
  {
   "cell_type": "code",
   "execution_count": null,
   "id": "d40b71d9",
   "metadata": {},
   "outputs": [],
   "source": [
    "import pandas as pd\n",
    "from reco_utils.dataset import movielens"
   ]
  },
  {
   "cell_type": "code",
   "execution_count": null,
   "id": "4c319605",
   "metadata": {},
   "outputs": [],
   "source": [
    "MOVIELENS_DATA_SIZE = '100k'"
   ]
  },
  {
   "cell_type": "markdown",
   "id": "1ec84db5",
   "metadata": {},
   "source": [
    "Vale notar que de acordo com os diferentes tamanhos do dataset, em alguns casos e dependendo da fonte, o nome das colunas muda."
   ]
  },
  {
   "cell_type": "code",
   "execution_count": null,
   "id": "2eea6167",
   "metadata": {},
   "outputs": [],
   "source": [
    "df = movielens.load_pandas_df(size=MOVIELENS_DATA_SIZE,header=[\"userID\", \"itemID\", \"rating\", \"timestamp\"])"
   ]
  },
  {
   "cell_type": "code",
   "execution_count": null,
   "id": "0ce07bbc",
   "metadata": {},
   "outputs": [],
   "source": [
    "df.to_csv('./movielens'+MOVIELENS_DATA_SIZE+'.csv')"
   ]
  }
 ],
 "metadata": {
  "kernelspec": {
   "display_name": "Python 3 (ipykernel)",
   "language": "python",
   "name": "python3"
  },
  "language_info": {
   "codemirror_mode": {
    "name": "ipython",
    "version": 3
   },
   "file_extension": ".py",
   "mimetype": "text/x-python",
   "name": "python",
   "nbconvert_exporter": "python",
   "pygments_lexer": "ipython3",
   "version": "3.10.6"
  }
 },
 "nbformat": 4,
 "nbformat_minor": 5
}
