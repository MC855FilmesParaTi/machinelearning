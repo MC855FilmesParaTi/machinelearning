{
 "cells": [
  {
   "cell_type": "markdown",
   "id": "ceb568f8",
   "metadata": {},
   "source": [
    "# Split Treino/Test\n",
    "\n",
    "Nesta etapa, estamos separando o conjunto de dados em treino e teste de acordo com o timestamp.\n",
    "As features fundamentais do dataset são: userID, itemID, rating e timestamp.\n",
    "\n",
    "Vale notar que de acordo com os diferentes tamanhos do dataset, em alguns casos e dependendo da fonte, o nome das colunas muda."
   ]
  },
  {
   "cell_type": "code",
   "execution_count": null,
   "id": "8f6d099a",
   "metadata": {},
   "outputs": [],
   "source": [
    "import pandas as pd\n",
    "from reco_utils.common.constants import SEED as DEFAULT_SEED\n",
    "from reco_utils.dataset.python_splitters import python_chrono_split\n",
    "from reco_utils.recommender.ncf.dataset import Dataset as NCFDataset"
   ]
  },
  {
   "cell_type": "code",
   "execution_count": null,
   "id": "26fd5a81",
   "metadata": {},
   "outputs": [],
   "source": [
    "#dataset de 1M de avaliações, disponível no drive\n",
    "ml_1m = pd.read_csv('ratings_1M.dat', sep = \"::\",\n",
    "    names = [\"userID\", \"itemID\", \"rating\", \"timestamp\"],\n",
    ")\n",
    "ml_1m.head()"
   ]
  },
  {
   "cell_type": "code",
   "execution_count": null,
   "id": "d5baf9e1",
   "metadata": {},
   "outputs": [],
   "source": [
    "rating_100k = pd.read_csv('ratings_100k.csv')\n",
    "rating_100k.head()"
   ]
  },
  {
   "cell_type": "code",
   "execution_count": null,
   "id": "ce9897fa",
   "metadata": {},
   "outputs": [],
   "source": [
    "train, test = python_chrono_split(rating_100k, 0.75)\n",
    "train['rating'] = np.where(train['rating']>2.5, 1, 0)\n",
    "test['rating'] = np.where(test['rating']>2.5, 1, 0)\n",
    "train"
   ]
  },
  {
   "cell_type": "code",
   "execution_count": null,
   "id": "cfe0638c",
   "metadata": {},
   "outputs": [],
   "source": [
    "data = NCFDataset(train=train, test=test, seed=SEED)"
   ]
  },
  {
   "cell_type": "code",
   "execution_count": null,
   "id": "a608a1fd",
   "metadata": {},
   "outputs": [],
   "source": [
    "train.to_csv('train_ratings_100k.csv', index=False)\n",
    "test.to_csv('test_ratings_100k.csv', index=False)"
   ]
  },
  {
   "cell_type": "code",
   "execution_count": null,
   "id": "cc655f6b",
   "metadata": {},
   "outputs": [],
   "source": [
    "set(train['rating'])"
   ]
  }
 ],
 "metadata": {
  "kernelspec": {
   "display_name": "Python 3 (ipykernel)",
   "language": "python",
   "name": "python3"
  },
  "language_info": {
   "codemirror_mode": {
    "name": "ipython",
    "version": 3
   },
   "file_extension": ".py",
   "mimetype": "text/x-python",
   "name": "python",
   "nbconvert_exporter": "python",
   "pygments_lexer": "ipython3",
   "version": "3.10.6"
  }
 },
 "nbformat": 4,
 "nbformat_minor": 5
}
